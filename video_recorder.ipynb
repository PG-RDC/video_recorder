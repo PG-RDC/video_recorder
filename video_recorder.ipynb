{
 "cells": [
  {
   "cell_type": "code",
   "execution_count": 30,
   "id": "8f6433b4",
   "metadata": {},
   "outputs": [
    {
     "name": "stdout",
     "output_type": "stream",
     "text": [
      "C:\\Users\\YeChan\n"
     ]
    }
   ],
   "source": [
    "%cd"
   ]
  },
  {
   "cell_type": "code",
   "execution_count": 45,
   "id": "8ca5786b",
   "metadata": {},
   "outputs": [],
   "source": [
    "import cv2\n",
    "import sys\n",
    "import os\n",
    "import time\n",
    "from datetime import datetime"
   ]
  },
  {
   "cell_type": "code",
   "execution_count": 41,
   "id": "98e81c8b",
   "metadata": {},
   "outputs": [],
   "source": [
    "def get_unique_filename(base_path):\n",
    "    ### 파일 저장 경로에 이미 파일이 존재하면 새로운 파일명 제공\n",
    "    \n",
    "    folder, fname = os.path.split(base_path)\n",
    "    name, ext = os.path.splitext(fname)\n",
    "    \n",
    "    candidate = base_path\n",
    "    counter = 1\n",
    "    while os.path.exists(candidate):\n",
    "        candidate = os.path.join(folder, f\"{name}{counter}{ext}\")\n",
    "        counter += 1\n",
    "    return candidate\n",
    "\n",
    "\n",
    "def put_shadow_text(img, text, org, font, scale, color, thick):\n",
    "    ### 배경에 관계 없는 text\n",
    "    cv2.putText(img, text, (org[0]+1, org[1]+1), font, scale, (0,0,0), thick+2, cv2.LINE_AA)\n",
    "    cv2.putText(img, text, org, font, scale, color, thick, cv2.LINE_AA)"
   ]
  },
  {
   "cell_type": "code",
   "execution_count": 50,
   "id": "e19f9a48",
   "metadata": {},
   "outputs": [
    {
     "name": "stdout",
     "output_type": "stream",
     "text": [
      "최종 저장 경로: ./CV_HW_1\\output2.avi\n"
     ]
    }
   ],
   "source": [
    "##### OUTPUT DIR #####\n",
    "out_dir = \"./CV_HW_1\"\n",
    "os.makedirs(out_dir, exist_ok=True)\n",
    "base_path = os.path.join(out_dir, \"output.avi\")\n",
    "out_path = get_unique_filename(base_path)\n",
    "\n",
    "print(\"최종 저장 경로:\", out_path)\n",
    "######################\n",
    "\n",
    "cap = cv2.VideoCapture(0)\n",
    "\n",
    "if not cap.isOpened():\n",
    "    print(\"Camera open failed!\")\n",
    "    sys.exit()\n",
    "\n",
    "w = round(cap.get(cv2.CAP_PROP_FRAME_WIDTH))\n",
    "h = round(cap.get(cv2.CAP_PROP_FRAME_HEIGHT))\n",
    "fps = cap.get(cv2.CAP_PROP_FPS)\n",
    "\n",
    "fourcc = cv2.VideoWriter_fourcc(*'DIVX')\n",
    "\n",
    "delay = round(1000/fps)\n",
    "\n",
    "out = cv2.VideoWriter(out_path, fourcc, fps, (w,h))\n",
    "\n",
    "### 기본 세팅값\n",
    "recording = True\n",
    "preview_gray = False\n",
    "show_grid = False\n",
    "start_time = time.time()\n",
    "rec_start_time = time.time()\n",
    "frame_count = 0\n",
    "\n",
    "while True:\n",
    "    ret, frame = cap.read() # 불러오기 시작\n",
    "\n",
    "    if not ret: # 예외시 멈춤\n",
    "        break\n",
    "    \n",
    "    key = cv2.waitKey(delay) # 키보드 값 받아오기\n",
    "\n",
    "    if key == 27: # ESC 키 종료\n",
    "        break\n",
    "    elif key == 32: # SPACE 모드 전환\n",
    "        recording = not recording\n",
    "    elif key == ord('g'):\n",
    "            preview_gray = not preview_gray\n",
    "    elif key == ord('l'):\n",
    "            show_grid = not show_grid\n",
    "    elif key == ord('s'): # 스크린샷 저장\n",
    "            ts = datetime.now().strftime(\"%Y%m%d_%H%M%S_%f\")[:-3]\n",
    "            shot = os.path.join(out_dir, f\"shot_{ts}.png\")\n",
    "            cv2.imwrite(shot, frame)\n",
    "            print(f\"[SHOT] {shot}\")\n",
    "    if recording:\n",
    "        out.write(frame)\n",
    "\n",
    "    im0 = frame.copy()\n",
    "    if preview_gray:\n",
    "            im0 = cv2.cvtColor(im0, cv2.COLOR_BGR2GRAY)\n",
    "            im0 = cv2.cvtColor(im0, cv2.COLOR_GRAY2BGR)\n",
    "\n",
    "    #################\n",
    "    ### Text info ###\n",
    "    center = (20, 20)           # 좌상단 기준 위치\n",
    "    radius = 8\n",
    "    red = (0, 0, 255)           # BGR\n",
    "    gray = (180, 180, 180)\n",
    "    text_pos = (40, 27)         # 'REC' 텍스트 위치\n",
    "    font = cv2.FONT_HERSHEY_SIMPLEX\n",
    "    font_scale = 0.6\n",
    "    thickness = 2\n",
    "    #################\n",
    "    #################\n",
    "\n",
    "    if recording:\n",
    "        frame_count += 1\n",
    "        cv2.circle(frame, center, radius, red, -1)\n",
    "        put_shadow_text(im0, \"REC\", (40, 27), cv2.FONT_HERSHEY_SIMPLEX, 0.6, red, 2)\n",
    "    else:\n",
    "        frame_count = 0\n",
    "        cv2.circle(frame, center, radius, gray, 2)\n",
    "        put_shadow_text(im0, \"Pause\", (40, 27), cv2.FONT_HERSHEY_SIMPLEX, 0.6, gray, 2)\n",
    "\n",
    "    now = time.time()\n",
    "    rec_dur = now - rec_start_time if recording else 0\n",
    "    total_dur = now - start_time\n",
    "    \n",
    "    info = f\"{'REC' if recording else 'PAUSE'} | seg {int(rec_dur)}s | total {int(total_dur)}s | frame {frame_count}\"\n",
    "    put_shadow_text(im0, info, (10, h-10), cv2.FONT_HERSHEY_SIMPLEX, 0.6, (255,255,255), 2)\n",
    "    \n",
    "    if show_grid:\n",
    "        rows, cols = 3, 3\n",
    "        H, W = im0.shape[:2]\n",
    "        for c in range(1, cols):\n",
    "            x = int(W * c / cols); cv2.line(im0, (x,0), (x,H), (200,200,200), 1)\n",
    "        for r in range(1, rows):\n",
    "            y = int(H * r / rows); cv2.line(im0, (0,y), (W,y), (200,200,200), 1)\n",
    "\n",
    "    cv2.imshow('frame', im0)\n",
    "\n",
    "    \n",
    "\n",
    "cap.release()\n",
    "out.release()\n",
    "cv2.destroyAllWindows()\n"
   ]
  },
  {
   "cell_type": "code",
   "execution_count": null,
   "id": "d9aec9f8",
   "metadata": {},
   "outputs": [],
   "source": []
  },
  {
   "cell_type": "code",
   "execution_count": null,
   "id": "c9a5a822",
   "metadata": {},
   "outputs": [],
   "source": []
  }
 ],
 "metadata": {
  "kernelspec": {
   "display_name": "Python 3",
   "language": "python",
   "name": "python3"
  },
  "language_info": {
   "codemirror_mode": {
    "name": "ipython",
    "version": 3
   },
   "file_extension": ".py",
   "mimetype": "text/x-python",
   "name": "python",
   "nbconvert_exporter": "python",
   "pygments_lexer": "ipython3",
   "version": "3.11.9"
  }
 },
 "nbformat": 4,
 "nbformat_minor": 5
}
